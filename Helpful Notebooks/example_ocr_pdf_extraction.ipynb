{
 "cells": [
  {
   "cell_type": "code",
   "execution_count": 0,
   "metadata": {
    "application/vnd.databricks.v1+cell": {
     "cellMetadata": {
      "byteLimit": 2048000,
      "rowLimit": 10000
     },
     "inputWidgets": {},
     "nuid": "32cf76b9-692b-45d3-ae22-afb9f99dcfea",
     "showTitle": true,
     "tableResultSettingsMap": {},
     "title": "Install"
    }
   },
   "outputs": [],
   "source": [
    "%pip install pandas docling\n",
    "%restart_python"
   ]
  },
  {
   "cell_type": "code",
   "execution_count": 0,
   "metadata": {
    "application/vnd.databricks.v1+cell": {
     "cellMetadata": {
      "byteLimit": 2048000,
      "rowLimit": 10000
     },
     "inputWidgets": {},
     "nuid": "5d9d13df-d742-4bd0-a371-03c9bc4ce415",
     "showTitle": true,
     "tableResultSettingsMap": {},
     "title": "Imports"
    }
   },
   "outputs": [],
   "source": [
    "import warnings\n",
    "warnings.filterwarnings(\"ignore\")\n",
    "\n",
    "from pathlib import Path\n",
    "import pandas as pd\n",
    "from docling.datamodel.accelerator_options import AcceleratorDevice, AcceleratorOptions\n",
    "from docling.datamodel.base_models import InputFormat\n",
    "from docling.datamodel.pipeline_options import (\n",
    "    PdfPipelineOptions,\n",
    ")\n",
    "from docling.datamodel.settings import settings\n",
    "from docling.document_converter import DocumentConverter, PdfFormatOption"
   ]
  },
  {
   "cell_type": "code",
   "execution_count": 0,
   "metadata": {
    "application/vnd.databricks.v1+cell": {
     "cellMetadata": {
      "byteLimit": 2048000,
      "rowLimit": 10000
     },
     "inputWidgets": {},
     "nuid": "72ed7582-f70d-4b90-8b88-76cbfb4e2f32",
     "showTitle": true,
     "tableResultSettingsMap": {},
     "title": "pdf parsing function"
    }
   },
   "outputs": [],
   "source": [
    "def main(input_doc_path_list: str):\n",
    "    # Define processing pipeline\n",
    "    pipeline_options = PdfPipelineOptions()\n",
    "    pipeline_options.do_ocr = True\n",
    "    pipeline_options.do_table_structure = True\n",
    "    pipeline_options.table_structure_options.do_cell_matching = True\n",
    "    # Create the converter\n",
    "    converter = DocumentConverter(\n",
    "        format_options={\n",
    "            InputFormat.PDF: PdfFormatOption(\n",
    "                pipeline_options=pipeline_options,\n",
    "            )\n",
    "        }\n",
    "    )\n",
    "    settings.debug.profile_pipeline_timings = True\n",
    "    # Convert the document\n",
    "    conversion_result = converter.convert_all(input_doc_path_list)\n",
    "    output = []\n",
    "    for res in conversion_result:\n",
    "        doc = res.document\n",
    "        raw_document_markdown = doc.export_to_markdown()\n",
    "        tables_markdown = \"\\n\".join([f\"Table {table_ix}:/n{table.export_to_dataframe().to_markdown()}\" for table_ix, table in enumerate(doc.tables)])\n",
    "        doc_conversion_secs = res.timings[\"pipeline_total\"].times\n",
    "        output.append( {\n",
    "            \"document\": doc.name,\n",
    "            \"num_pages\": doc.num_pages(),\n",
    "            \"full_markdown\": raw_document_markdown,\n",
    "            \"tables_markdown\": tables_markdown,\n",
    "            \"total_conversion_time_secs\": doc_conversion_secs[0],\n",
    "        })\n",
    "    return output"
   ]
  },
  {
   "cell_type": "code",
   "execution_count": 0,
   "metadata": {
    "application/vnd.databricks.v1+cell": {
     "cellMetadata": {
      "byteLimit": 2048000,
      "rowLimit": 10000
     },
     "inputWidgets": {},
     "nuid": "8bb868a3-175b-4586-b07d-0da4a2951640",
     "showTitle": false,
     "tableResultSettingsMap": {
      "0": {
       "dataGridStateBlob": "{\"version\":1,\"tableState\":{\"columnPinning\":{\"left\":[\"#row_number#\"],\"right\":[]},\"columnSizing\":{},\"columnVisibility\":{}},\"settings\":{\"columns\":{}},\"syncTimestamp\":1754594353346}",
       "filterBlob": null,
       "queryPlanFiltersBlob": null,
       "tableResultIndex": 0
      }
     },
     "title": ""
    }
   },
   "outputs": [],
   "source": [
    "# Using local files from Workspace directory, recommended to use Volumes instead.\n",
    "data_folder = Path(\"./assets\").resolve()\n",
    "input_doc_paths = list(data_folder.glob(\"*\"))\n",
    "results = main([str(input_doc_path) for input_doc_path in input_doc_paths])\n",
    "display(pd.DataFrame(results))"
   ]
  },
  {
   "cell_type": "code",
   "execution_count": 0,
   "metadata": {
    "application/vnd.databricks.v1+cell": {
     "cellMetadata": {
      "byteLimit": 2048000,
      "rowLimit": 10000
     },
     "inputWidgets": {},
     "nuid": "041230d1-5766-499b-9142-fa423b5116c4",
     "showTitle": false,
     "tableResultSettingsMap": {},
     "title": ""
    }
   },
   "outputs": [],
   "source": [
    "df = spark.createDataFrame(pd.DataFrame(results))\n",
    "df.write.mode(\"overwrite\").saveAsTable(\"main.default.pdf_conversion_results\")"
   ]
  },
  {
   "cell_type": "code",
   "execution_count": 0,
   "metadata": {
    "application/vnd.databricks.v1+cell": {
     "cellMetadata": {
      "byteLimit": 2048000,
      "implicitDf": true,
      "rowLimit": 10000
     },
     "inputWidgets": {},
     "nuid": "e69555ba-1e09-4dc3-9d63-f447d5df9fd7",
     "showTitle": false,
     "tableResultSettingsMap": {
      "0": {
       "dataGridStateBlob": "{\"version\":1,\"tableState\":{\"columnPinning\":{\"left\":[\"#row_number#\"],\"right\":[]},\"columnSizing\":{},\"columnVisibility\":{}},\"settings\":{\"columns\":{}},\"syncTimestamp\":1754596463945}",
       "filterBlob": null,
       "queryPlanFiltersBlob": null,
       "tableResultIndex": 0
      }
     },
     "title": ""
    }
   },
   "outputs": [],
   "source": [
    "df = spark.sql(\"\"\"\n",
    "SELECT\n",
    "    document,\n",
    "    full_markdown,\n",
    "    ai_query(\n",
    "        'databricks-gpt-oss-120b',\n",
    "        'Summarize the following document content:\\n\\n' || full_markdown\n",
    "    ) AS ai_summary,\n",
    "    ai_query(\n",
    "        'databricks-claude-3-7-sonnet',\n",
    "        'Restructure and organize the content of the following tables to fit the provided schema, you must analyze the tables, and summarize their expenditures and profits.' ||\n",
    "        '''\n",
    "        Please adhere to this schema:\n",
    "        schema = StructType([\n",
    "            StructField(\"table_summary\", ArrayType(\n",
    "                StructType([\n",
    "                    StructField(\"table_index\", IntegerType(), True),\n",
    "                    StructField(\"expenditures\", DoubleType(), True),\n",
    "                    StructField(\"profits\", DoubleType(), True),\n",
    "                    StructField(\"notes\", StringType(), True),\n",
    "                ])\n",
    "            ), True),\n",
    "            StructField(\"total_expenditures\", DoubleType(), True),\n",
    "            StructField(\"total_profits\", DoubleType(), True),\n",
    "        ])\n",
    "        ''' || tables_markdown,\n",
    "        responseFormat => '\n",
    "        STRUCT<\n",
    "          result: STRUCT<\n",
    "            total_expenditures:DOUBLE,\n",
    "            total_profits:DOUBLE,\n",
    "            table_summary:ARRAY<STRUCT<table_index:INT, expenditures:DOUBLE, profits:DOUBLE, notes:STRING>>\n",
    "          >\n",
    "        >\n",
    "        '\n",
    "    ) AS asset_financials\n",
    "FROM main.default.pdf_conversion_results\n",
    "\"\"\")\n",
    "display(df)"
   ]
  },
  {
   "cell_type": "code",
   "execution_count": 0,
   "metadata": {
    "application/vnd.databricks.v1+cell": {
     "cellMetadata": {
      "byteLimit": 2048000,
      "rowLimit": 10000
     },
     "inputWidgets": {},
     "nuid": "2d2bead1-64a3-44c3-8004-ca011f2926f5",
     "showTitle": false,
     "tableResultSettingsMap": {},
     "title": ""
    }
   },
   "outputs": [],
   "source": [
    "import pyspark.sql.functions as F\n",
    "from pyspark.sql.types import StructType, StructField, DoubleType, ArrayType, IntegerType, StringType\n",
    "\n",
    "# Define the nested schema matching your JSON output\n",
    "schema = StructType([\n",
    "    StructField(\"table_summary\", ArrayType(\n",
    "        StructType([\n",
    "            StructField(\"table_index\", IntegerType(), True),\n",
    "            StructField(\"expenditures\", DoubleType(), True),\n",
    "            StructField(\"profits\", DoubleType(), True),\n",
    "            StructField(\"notes\", StringType(), True),\n",
    "        ])\n",
    "    ), True),\n",
    "    StructField(\"total_expenditures\", DoubleType(), True),\n",
    "    StructField(\"total_profits\", DoubleType(), True),\n",
    "])\n",
    "\n",
    "# Assuming your JSON string column is `asset_financials` (type: string), parse it with from_json:\n",
    "df_structured = df.withColumn(\n",
    "    \"asset_financials_struct\",\n",
    "    F.from_json(F.col(\"asset_financials\"), schema)\n",
    ")\n",
    "display(df_structured)"
   ]
  },
  {
   "cell_type": "code",
   "execution_count": 0,
   "metadata": {
    "application/vnd.databricks.v1+cell": {
     "cellMetadata": {
      "byteLimit": 2048000,
      "rowLimit": 10000
     },
     "inputWidgets": {},
     "nuid": "f4883754-cdcd-4294-b8f7-b352eb1cf822",
     "showTitle": false,
     "tableResultSettingsMap": {},
     "title": ""
    }
   },
   "outputs": [],
   "source": [
    "df_structured.select(\"document\", F.explode(F.col(\"asset_financials_struct\")[\"table_summary\"])).withColumns(\n",
    "    {\n",
    "        \"expenditures\": F.col(\"col.expenditures\"),\n",
    "        \"profits\": F.col(\"col.profits\"),\n",
    "        \"notes\": F.col(\"col.notes\"),\n",
    "        \"table_index\": F.col(\"col.table_index\"),\n",
    "    }\n",
    ").drop(\"col\").display()"
   ]
  }
 ],
 "metadata": {
  "application/vnd.databricks.v1+notebook": {
   "computePreferences": null,
   "dashboards": [],
   "environmentMetadata": {
    "base_environment": "",
    "environment_version": "2"
   },
   "inputWidgetPreferences": null,
   "language": "python",
   "notebookMetadata": {
    "mostRecentlyExecutedCommandWithImplicitDF": {
     "commandId": -1,
     "dataframes": [
      "_sqldf"
     ]
    },
    "pythonIndentUnit": 4
   },
   "notebookName": "example_ocr_pdf_extraction",
   "widgets": {}
  },
  "language_info": {
   "name": "python"
  }
 },
 "nbformat": 4,
 "nbformat_minor": 0
}
