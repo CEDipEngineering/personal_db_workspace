{
 "cells": [
  {
   "cell_type": "code",
   "execution_count": 0,
   "metadata": {
    "application/vnd.databricks.v1+cell": {
     "cellMetadata": {
      "byteLimit": 2048000,
      "rowLimit": 10000
     },
     "inputWidgets": {},
     "nuid": "32cf76b9-692b-45d3-ae22-afb9f99dcfea",
     "showTitle": true,
     "tableResultSettingsMap": {},
     "title": "Install"
    }
   },
   "outputs": [],
   "source": [
    "%pip install pandas docling\n",
    "%restart_python"
   ]
  },
  {
   "cell_type": "code",
   "execution_count": 0,
   "metadata": {
    "application/vnd.databricks.v1+cell": {
     "cellMetadata": {
      "byteLimit": 2048000,
      "rowLimit": 10000
     },
     "inputWidgets": {},
     "nuid": "5d9d13df-d742-4bd0-a371-03c9bc4ce415",
     "showTitle": true,
     "tableResultSettingsMap": {},
     "title": "Imports"
    }
   },
   "outputs": [],
   "source": [
    "from pathlib import Path\n",
    "import pandas as pd\n",
    "from docling.datamodel.accelerator_options import AcceleratorDevice, AcceleratorOptions\n",
    "from docling.datamodel.base_models import InputFormat\n",
    "from docling.datamodel.pipeline_options import (\n",
    "    PdfPipelineOptions,\n",
    ")\n",
    "from docling.datamodel.settings import settings\n",
    "from docling.document_converter import DocumentConverter, PdfFormatOption"
   ]
  },
  {
   "cell_type": "code",
   "execution_count": 0,
   "metadata": {
    "application/vnd.databricks.v1+cell": {
     "cellMetadata": {
      "byteLimit": 2048000,
      "rowLimit": 10000
     },
     "inputWidgets": {},
     "nuid": "72ed7582-f70d-4b90-8b88-76cbfb4e2f32",
     "showTitle": true,
     "tableResultSettingsMap": {},
     "title": "pdf parsing function"
    }
   },
   "outputs": [],
   "source": [
    "def main(input_doc_path: str):\n",
    "    # Define processing pipeline\n",
    "    pipeline_options = PdfPipelineOptions()\n",
    "    pipeline_options.do_ocr = True\n",
    "    pipeline_options.do_table_structure = True\n",
    "    pipeline_options.table_structure_options.do_cell_matching = True\n",
    "    # Create the converter\n",
    "    converter = DocumentConverter(\n",
    "        format_options={\n",
    "            InputFormat.PDF: PdfFormatOption(\n",
    "                pipeline_options=pipeline_options,\n",
    "            )\n",
    "        }\n",
    "    )\n",
    "    # Convert the document\n",
    "    conversion_result = converter.convert(input_doc_path)\n",
    "    doc = conversion_result.document\n",
    "    raw_document_markdown = doc.export_to_markdown()\n",
    "    tables_markdown = [f\"Table {table_ix}:/n{table.export_to_dataframe().to_markdown()}\" for table_ix, table in enumerate(doc.tables)]\n",
    "    return {\n",
    "        \"uuid\": doc.origin.binary_hash,\n",
    "        \"document\": doc.name,\n",
    "        \"num_pages\": doc.num_pages(),\n",
    "        \"full_markdown\": raw_document_markdown,\n",
    "        \"tables_markdown\": tables_markdown\n",
    "    }"
   ]
  },
  {
   "cell_type": "code",
   "execution_count": 0,
   "metadata": {
    "application/vnd.databricks.v1+cell": {
     "cellMetadata": {
      "byteLimit": 2048000,
      "rowLimit": 10000
     },
     "inputWidgets": {},
     "nuid": "8bb868a3-175b-4586-b07d-0da4a2951640",
     "showTitle": false,
     "tableResultSettingsMap": {},
     "title": ""
    }
   },
   "outputs": [],
   "source": [
    "# Using local files from Workspace directory, recommended to use Volumes instead.\n",
    "data_folder = Path(\"./assets\").resolve()\n",
    "input_doc_path = data_folder / \"FY24_Q4_Consolidated_Financial_Statements.pdf\"\n",
    "main(input_doc_path)"
   ]
  },
  {
   "cell_type": "code",
   "execution_count": 0,
   "metadata": {
    "application/vnd.databricks.v1+cell": {
     "cellMetadata": {
      "byteLimit": 2048000,
      "rowLimit": 10000
     },
     "inputWidgets": {},
     "nuid": "35e2ce22-54d5-439d-80f0-addb3c26acf1",
     "showTitle": false,
     "tableResultSettingsMap": {},
     "title": ""
    }
   },
   "outputs": [],
   "source": [
    "#Extracting tables\n",
    "tables = dict()\n",
    "for table_ix, table in enumerate(doc.tables):\n",
    "    table_df: pd.DataFrame = table.export_to_dataframe()\n",
    "    print(f\"## Table {table_ix}\")\n",
    "    print(table_df)\n",
    "    tables[table_ix] = table_df\n",
    "    # Save the table as csv\n",
    "    # element_csv_filename = output_dir / f\"{doc_filename}-table-{table_ix + 1}.csv\"\n",
    "    # _log.info(f\"Saving CSV table to {element_csv_filename}\")\n",
    "    # table_df.to_csv(element_csv_filename)"
   ]
  },
  {
   "cell_type": "code",
   "execution_count": 0,
   "metadata": {
    "application/vnd.databricks.v1+cell": {
     "cellMetadata": {
      "byteLimit": 2048000,
      "rowLimit": 10000
     },
     "inputWidgets": {},
     "nuid": "041230d1-5766-499b-9142-fa423b5116c4",
     "showTitle": false,
     "tableResultSettingsMap": {},
     "title": ""
    }
   },
   "outputs": [],
   "source": []
  }
 ],
 "metadata": {
  "application/vnd.databricks.v1+notebook": {
   "computePreferences": null,
   "dashboards": [],
   "environmentMetadata": {
    "base_environment": "",
    "environment_version": "2"
   },
   "inputWidgetPreferences": null,
   "language": "python",
   "notebookMetadata": {
    "pythonIndentUnit": 4
   },
   "notebookName": "example_ocr_pdf_extraction",
   "widgets": {}
  },
  "language_info": {
   "name": "python"
  }
 },
 "nbformat": 4,
 "nbformat_minor": 0
}
