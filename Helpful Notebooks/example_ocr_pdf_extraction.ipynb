{
 "cells": [
  {
   "cell_type": "code",
   "execution_count": 0,
   "metadata": {
    "application/vnd.databricks.v1+cell": {
     "cellMetadata": {
      "byteLimit": 2048000,
      "rowLimit": 10000
     },
     "inputWidgets": {},
     "nuid": "32cf76b9-692b-45d3-ae22-afb9f99dcfea",
     "showTitle": false,
     "tableResultSettingsMap": {},
     "title": ""
    }
   },
   "outputs": [],
   "source": [
    "%pip install pandas docling"
   ]
  },
  {
   "cell_type": "code",
   "execution_count": 0,
   "metadata": {
    "application/vnd.databricks.v1+cell": {
     "cellMetadata": {
      "byteLimit": 2048000,
      "rowLimit": 10000
     },
     "inputWidgets": {},
     "nuid": "5d9d13df-d742-4bd0-a371-03c9bc4ce415",
     "showTitle": false,
     "tableResultSettingsMap": {},
     "title": ""
    }
   },
   "outputs": [],
   "source": [
    "from pathlib import Path\n",
    "import pandas as pd\n",
    "from docling.datamodel.accelerator_options import AcceleratorDevice, AcceleratorOptions\n",
    "from docling.datamodel.base_models import InputFormat\n",
    "from docling.datamodel.pipeline_options import (\n",
    "    PdfPipelineOptions,\n",
    ")\n",
    "from docling.datamodel.settings import settings\n",
    "from docling.document_converter import DocumentConverter, PdfFormatOption"
   ]
  },
  {
   "cell_type": "code",
   "execution_count": 0,
   "metadata": {
    "application/vnd.databricks.v1+cell": {
     "cellMetadata": {
      "byteLimit": 2048000,
      "rowLimit": 10000
     },
     "inputWidgets": {},
     "nuid": "72ed7582-f70d-4b90-8b88-76cbfb4e2f32",
     "showTitle": false,
     "tableResultSettingsMap": {},
     "title": ""
    }
   },
   "outputs": [],
   "source": [
    "def main(input_doc_path: str):\n",
    "    # Explicitly set the accelerator\n",
    "    # accelerator_options = AcceleratorOptions(\n",
    "    #     num_threads=8, device=AcceleratorDevice.AUTO\n",
    "    # )\n",
    "    accelerator_options = AcceleratorOptions(\n",
    "        num_threads=8, device=AcceleratorDevice.CPU\n",
    "    )\n",
    "    # accelerator_options = AcceleratorOptions(\n",
    "    #     num_threads=8, device=AcceleratorDevice.MPS\n",
    "    # )\n",
    "    # accelerator_options = AcceleratorOptions(\n",
    "    #     num_threads=8, device=AcceleratorDevice.CUDA\n",
    "    # )\n",
    "\n",
    "    # easyocr doesnt support cuda:N allocation, defaults to cuda:0\n",
    "    # accelerator_options = AcceleratorOptions(num_threads=8, device=\"cuda:1\")\n",
    "\n",
    "    pipeline_options = PdfPipelineOptions()\n",
    "    pipeline_options.accelerator_options = accelerator_options\n",
    "    pipeline_options.do_ocr = True\n",
    "    pipeline_options.do_table_structure = True\n",
    "    pipeline_options.table_structure_options.do_cell_matching = True\n",
    "\n",
    "    converter = DocumentConverter(\n",
    "        format_options={\n",
    "            InputFormat.PDF: PdfFormatOption(\n",
    "                pipeline_options=pipeline_options,\n",
    "            )\n",
    "        }\n",
    "    )\n",
    "\n",
    "    # Enable the profiling to measure the time spent\n",
    "    settings.debug.profile_pipeline_timings = True\n",
    "\n",
    "    # Convert the document\n",
    "    conversion_result = converter.convert(input_doc_path)\n",
    "    doc = conversion_result.document\n",
    "\n",
    "    # List with total time per document\n",
    "    doc_conversion_secs = conversion_result.timings[\"pipeline_total\"].times\n",
    "\n",
    "    md = doc.export_to_markdown()\n",
    "    print(md)\n",
    "    print(f\"Conversion secs: {doc_conversion_secs}\")\n",
    "    return doc"
   ]
  },
  {
   "cell_type": "code",
   "execution_count": 0,
   "metadata": {
    "application/vnd.databricks.v1+cell": {
     "cellMetadata": {
      "byteLimit": 2048000,
      "rowLimit": 10000
     },
     "inputWidgets": {},
     "nuid": "8bb868a3-175b-4586-b07d-0da4a2951640",
     "showTitle": false,
     "tableResultSettingsMap": {},
     "title": ""
    }
   },
   "outputs": [],
   "source": [
    "data_folder = Path(\"/Volumes/main/default/raw_files_volume\")\n",
    "input_doc_path = data_folder / \"pdf_files/AMZN-Q4-2024-Earnings-Release.pdf\"\n",
    "doc = main(input_doc_path)"
   ]
  },
  {
   "cell_type": "code",
   "execution_count": 0,
   "metadata": {
    "application/vnd.databricks.v1+cell": {
     "cellMetadata": {
      "byteLimit": 2048000,
      "rowLimit": 10000
     },
     "inputWidgets": {},
     "nuid": "35e2ce22-54d5-439d-80f0-addb3c26acf1",
     "showTitle": false,
     "tableResultSettingsMap": {},
     "title": ""
    }
   },
   "outputs": [],
   "source": [
    "#Extracting tables\n",
    "tables = dict()\n",
    "for table_ix, table in enumerate(doc.tables):\n",
    "    table_df: pd.DataFrame = table.export_to_dataframe()\n",
    "    print(f\"## Table {table_ix}\")\n",
    "    print(table_df)\n",
    "    tables[table_ix] = table_df\n",
    "    # Save the table as csv\n",
    "    # element_csv_filename = output_dir / f\"{doc_filename}-table-{table_ix + 1}.csv\"\n",
    "    # _log.info(f\"Saving CSV table to {element_csv_filename}\")\n",
    "    # table_df.to_csv(element_csv_filename)"
   ]
  },
  {
   "cell_type": "code",
   "execution_count": 0,
   "metadata": {
    "application/vnd.databricks.v1+cell": {
     "cellMetadata": {
      "byteLimit": 2048000,
      "rowLimit": 10000
     },
     "inputWidgets": {},
     "nuid": "041230d1-5766-499b-9142-fa423b5116c4",
     "showTitle": false,
     "tableResultSettingsMap": {},
     "title": ""
    }
   },
   "outputs": [],
   "source": [
    "tables[0]"
   ]
  }
 ],
 "metadata": {
  "application/vnd.databricks.v1+notebook": {
   "computePreferences": null,
   "dashboards": [],
   "environmentMetadata": {
    "base_environment": "",
    "environment_version": "2"
   },
   "inputWidgetPreferences": null,
   "language": "python",
   "notebookMetadata": {
    "pythonIndentUnit": 4
   },
   "notebookName": "example_ocr_pdf_extraction",
   "widgets": {}
  },
  "language_info": {
   "name": "python"
  }
 },
 "nbformat": 4,
 "nbformat_minor": 0
}
