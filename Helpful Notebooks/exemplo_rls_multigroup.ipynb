{
 "cells": [
  {
   "cell_type": "code",
   "execution_count": 0,
   "metadata": {
    "application/vnd.databricks.v1+cell": {
     "cellMetadata": {
      "byteLimit": 2048000,
      "rowLimit": 10000
     },
     "inputWidgets": {},
     "nuid": "83e45966-82ad-4ef2-bc73-7d697a542188",
     "showTitle": false,
     "tableResultSettingsMap": {},
     "title": ""
    }
   },
   "outputs": [],
   "source": [
    "schema_teste = \"main.default\""
   ]
  },
  {
   "cell_type": "code",
   "execution_count": 0,
   "metadata": {
    "application/vnd.databricks.v1+cell": {
     "cellMetadata": {
      "byteLimit": 2048000,
      "rowLimit": 10000
     },
     "inputWidgets": {},
     "nuid": "b8b61c10-b9d5-49b1-a06c-6fb7a01bdd91",
     "showTitle": false,
     "tableResultSettingsMap": {},
     "title": ""
    }
   },
   "outputs": [],
   "source": [
    "# Create a DataFrame with sample data\n",
    "data = [\n",
    "    (\"A\", \"2025-07-08\", 100),\n",
    "    (\"A\", \"2025-07-09\", 150),\n",
    "    (\"A\", \"2025-07-10\", 200),\n",
    "    (\"B\", \"2025-07-08\", 110),\n",
    "    (\"B\", \"2025-07-09\", 160),\n",
    "    (\"B\", \"2025-07-10\", 210),\n",
    "    (\"C\", \"2025-07-08\", 120),\n",
    "    (\"C\", \"2025-07-09\", 170),\n",
    "    (\"C\", \"2025-07-10\", 220)\n",
    "]\n",
    "\n",
    "columns = [\"uf\", \"date\", \"amount\"]\n",
    "\n",
    "nome_tabela = f\"{schema_teste}.sales\"\n",
    "nome_func = f\"{schema_teste}.sales_func\"\n",
    "df = spark.createDataFrame(data, columns)\n",
    "\n",
    "# Create the table in 'main.default' and insert the data\n",
    "df.write.mode(\"overwrite\").option(\"overwriteSchema\", \"true\").saveAsTable(nome_tabela)\n",
    "\n",
    "# Display the table to verify\n",
    "display(spark.table(nome_tabela))"
   ]
  },
  {
   "cell_type": "code",
   "execution_count": 0,
   "metadata": {
    "application/vnd.databricks.v1+cell": {
     "cellMetadata": {
      "byteLimit": 2048000,
      "implicitDf": true,
      "rowLimit": 10000
     },
     "inputWidgets": {},
     "nuid": "a911d467-5658-4acb-8926-77e9badb75d8",
     "showTitle": false,
     "tableResultSettingsMap": {},
     "title": ""
    }
   },
   "outputs": [],
   "source": [
    "%sql\n",
    "SELECT\n",
    "    is_account_group_member(\"TEST_GROUP_A\"),\n",
    "    is_account_group_member(\"TEST_GROUP_B\"),\n",
    "    is_account_group_member(\"TEST_GROUP_C\")"
   ]
  },
  {
   "cell_type": "code",
   "execution_count": 0,
   "metadata": {
    "application/vnd.databricks.v1+cell": {
     "cellMetadata": {
      "byteLimit": 2048000,
      "implicitDf": true,
      "rowLimit": 10000
     },
     "inputWidgets": {},
     "nuid": "4369215f-e103-472e-b09f-ae7120c4e84a",
     "showTitle": false,
     "tableResultSettingsMap": {},
     "title": ""
    }
   },
   "outputs": [],
   "source": [
    "spark.sql(f\"\"\"\n",
    "SELECT \n",
    "    * \n",
    "FROM {nome_tabela}\n",
    "WHERE\n",
    "    (is_account_group_member(\"TEST_GROUP_A\") AND uf = \"A\")\n",
    "    OR (is_account_group_member(\"TEST_GROUP_B\") AND uf = \"B\")\n",
    "    OR (is_account_group_member(\"TEST_GROUP_C\") AND uf = \"C\")\n",
    "\"\"\")"
   ]
  },
  {
   "cell_type": "code",
   "execution_count": 0,
   "metadata": {
    "application/vnd.databricks.v1+cell": {
     "cellMetadata": {
      "byteLimit": 2048000,
      "implicitDf": true,
      "rowLimit": 10000
     },
     "inputWidgets": {},
     "nuid": "b7129e54-0bc9-44bb-94e5-70d929ba60e0",
     "showTitle": false,
     "tableResultSettingsMap": {},
     "title": ""
    }
   },
   "outputs": [],
   "source": [
    "spark.sql(f\"\"\"\n",
    "CREATE OR REPLACE FUNCTION {nome_func}(uf STRING)\n",
    "RETURN\n",
    "    (is_account_group_member(\"TEST_GROUP_A\") AND uf = \"A\")\n",
    "    OR (is_account_group_member(\"TEST_GROUP_B\") AND uf = \"B\")\n",
    "    OR (is_account_group_member(\"TEST_GROUP_C\") AND uf = \"C\")\n",
    ";\n",
    "\"\"\")"
   ]
  },
  {
   "cell_type": "code",
   "execution_count": 0,
   "metadata": {
    "application/vnd.databricks.v1+cell": {
     "cellMetadata": {},
     "inputWidgets": {},
     "nuid": "9c93859c-76a6-4ef2-bb5a-cc3279054940",
     "showTitle": false,
     "tableResultSettingsMap": {},
     "title": ""
    }
   },
   "outputs": [],
   "source": [
    "spark.sql(f\"ALTER TABLE {table_name} DROP ROW FILTER;\")\n",
    "spark.sql(f\"ALTER TABLE {table_name} SET ROW FILTER {nome_func} ON (uf);\")"
   ]
  }
 ],
 "metadata": {
  "application/vnd.databricks.v1+notebook": {
   "computePreferences": null,
   "dashboards": [],
   "environmentMetadata": {
    "base_environment": "",
    "environment_version": "2"
   },
   "inputWidgetPreferences": null,
   "language": "python",
   "notebookMetadata": {
    "mostRecentlyExecutedCommandWithImplicitDF": {
     "commandId": 5762411890062625,
     "dataframes": [
      "_sqldf"
     ]
    },
    "pythonIndentUnit": 4
   },
   "notebookName": "exemplo_rls_multigroup",
   "widgets": {}
  },
  "language_info": {
   "name": "python"
  }
 },
 "nbformat": 4,
 "nbformat_minor": 0
}
